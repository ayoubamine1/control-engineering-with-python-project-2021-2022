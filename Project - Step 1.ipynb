{
  "cells": [
    {
      "cell_type": "code",
      "execution_count": null,
      "metadata": {
        "id": "nzyfCbtlVNPg"
      },
      "outputs": [],
      "source": [
        "from numpy import *\n",
        "from numpy.linalg import *\n",
        "\n",
        "from scipy.integrate import *\n",
        "from scipy.signal import *\n",
        "\n",
        "from matplotlib.pyplot import *"
      ]
    },
    {
      "cell_type": "markdown",
      "metadata": {
        "id": "m7ytwVPaVNPk"
      },
      "source": [
        "Chariot Model\n",
        "==============\n",
        "\n",
        "We consider a mobile robot of \"chariot\" type, evolving in the plane.\n",
        "\n",
        "  - From above, its frame appears to be a disk of diameter $D$. \n",
        "  \n",
        "  - It has two fixed wheels (their orientation with respect to the frame does not change; there is no need for a steering wheel!). They are parallel and located at opposite ends of the frame (hence separated by a distance of $D$) ; these wheels have the common radius $R$.\n",
        "\n",
        "  - The robot is symmetric with respect to the axis that joins the two wheels. For convenience, a green sticker is attached at the boundary of the frame on one side of this axis, on the robot axis of symmetry ; this side will is called the \"front\" of the robot, the point itself is called the \"nose\" of the robot. When we talk about the \"left wheel\" or the \"right wheel\", we assume that we are looking towards the front of the robot.\n",
        "\n",
        "We will denote \n",
        "\n",
        "  - $(x, y)$ the coordinates of the wheel axis in the orthonormal and direct frame $(0, e_x, e_y)$ of the plane.\n",
        "  \n",
        "  - $\\theta$ the angle of the wheels direction with respect to vector $e_x$ ; with $\\theta = 0$ when the front of the robot faces the right ($e_x$) and $\\theta = \\pi/2$ when he faces upwards ($e_y$).\n",
        "\n",
        "  - $\\phi_l$ and $\\phi_r$ the rotation angles of the left and right wheel respectively ; by convention, when these angles increase, the robot moves forward."
      ]
    },
    {
      "cell_type": "markdown",
      "source": [
        ""
      ],
      "metadata": {
        "id": "GlgsgyA3XOr2"
      }
    },
    {
      "cell_type": "markdown",
      "metadata": {
        "id": "TOcdqKnFVNPs"
      },
      "source": [
        "### Parameter Definition\n",
        "\n",
        "\n",
        "From now on, we assume that the frame diameter is $D = 1 \\mbox{ m}$ and the wheel radius is $R = 10 \\mbox{ cm}$.\n",
        "\n",
        "🧩 Define the corresponding Python variables `D` and `R` (express every length in meters, and more generally in the sequel, always use the [international standard of units](https://en.wikipedia.org/wiki/SI_derived_unit)) for numerical values. "
      ]
    },
    {
      "cell_type": "code",
      "execution_count": null,
      "metadata": {
        "id": "6ip6pvG4VNPv"
      },
      "outputs": [],
      "source": [
        "D = 1\n",
        "R = 0.1 "
      ]
    },
    {
      "cell_type": "markdown",
      "metadata": {
        "id": "VF-JyKUtVNPy"
      },
      "source": [
        "### Graphical Representation\n",
        "\n",
        "🧩 Implement a function `draw_robot` with arguments `x`, `y` and `theta` that draws the robot in the plane (top view) for arbitrary values of $(x, y)$ and $\\theta$. Represent the robot frame as a circle, the wheels as lines and the nose as an orange point.\n",
        "\n",
        "🗝️ **Hint.** Use the function `plot` of `matplotlib.pyplot`."
      ]
    },
    {
      "cell_type": "code",
      "execution_count": null,
      "metadata": {
        "id": "gRoiTUR3VNP1"
      },
      "outputs": [],
      "source": [
        "def draw_robot(x, y, theta):\n",
        "  x_green= x+(D/2)*cos(theta) ; y_green = y+(D/2)*sin(theta) \n",
        "  x_redb = x  +(D/2)*cos(theta-(pi/2)) ; y_redb = y +(D/2)*sin(theta-(pi/2)) \n",
        "  x_redh = x  +(D/2)*cos(theta+(pi/2)) ; y_redh = y +(D/2)*sin(theta+(pi/2)) \n",
        "  circle1 = Circle((x, y), D/2 , facecolor =  \"white\", edgecolor = \"black\") \n",
        "  plot([x_redb-R*cos(theta),x_redb+R*cos(theta)],[y_redb-R*sin(theta),y_redb+R*sin(theta)],color='red')\n",
        "  plot([x_redh-R*cos(theta),x_redh+R*cos(theta)],[y_redh-R*sin(theta),y_redh+R*sin(theta)],color='red')\n",
        "  circle2 = Circle((x_green, y_green), R , facecolor =\"green\")  \n",
        "  gca().add_artist(circle1)\n",
        "  gca().add_artist(circle2)\n",
        "  "
      ]
    },
    {
      "cell_type": "markdown",
      "metadata": {
        "id": "5UbB-asgVNP3"
      },
      "source": [
        "🧩 Represent the robot in when $(x, y, \\theta) = (0, 0, 0), (2, 2, \\pi/2), (0, 4, -\\pi), (-4, 4, -\\pi), (-8, 4, -\\pi)$.\n",
        "\n",
        "🗝️ **Hint.** Use the following `draw_arena` function beforehand."
      ]
    },
    {
      "cell_type": "code",
      "execution_count": null,
      "metadata": {
        "id": "XWHuZXttVNP4"
      },
      "outputs": [],
      "source": [
        "def draw_arena(xmin=-12, xmax=12, ymin=-9, ymax=9):\n",
        "    wh_ratio = (xmax - xmin) / (ymax - ymin)\n",
        "    figsize = fig_width, fig_height = 16, 16 / wh_ratio\n",
        "    figure(figsize=figsize)\n",
        "    axes = gca()\n",
        "    axes.axis([xmin, xmax, ymin, ymax])\n",
        "    axes.set_aspect(1)\n",
        "    xticks(arange(xmin, xmax+1, 1))\n",
        "    yticks(arange(ymin, ymax+1, 1))\n",
        "    grid(True)\n",
        "    plot([xmin, xmax], [0, 0], linestyle=\"-\", color=\"grey\")\n",
        "    plot([0, 0], [ymin, ymax], linestyle=\"-\", color=\"grey\")"
      ]
    },
    {
      "cell_type": "code",
      "execution_count": null,
      "metadata": {
        "colab": {
          "base_uri": "https://localhost:8080/",
          "height": 703
        },
        "id": "fry70lbzVNP5",
        "outputId": "7ab061b9-f3b5-4a5b-f15b-36bca4d28a68"
      },
      "outputs": [
        {
          "output_type": "display_data",
          "data": {
            "text/plain": [
              "<Figure size 1152x864 with 1 Axes>"
            ],
            "image/png": "[encoded data removed]"
          },
          "metadata": {
            "needs_background": "light"
          }
        }
      ],
      "source": [
        "draw_arena()\n",
        "p=pi\n",
        "draw_robot(0,0,0)\n",
        "draw_robot(2,2,p/2)\n",
        "draw_robot(0,4,-p)\n",
        "draw_robot(-4,4,p)\n",
        "draw_robot(-8,4,-p)\n",
        "\n",
        "\n",
        "\n"
      ]
    },
    {
      "cell_type": "markdown",
      "metadata": {
        "id": "ZCKhiXBvVNP8"
      },
      "source": [
        "### Kinematic Modeling\n",
        "\n",
        "We assume that we can control the wheels angular velocities $\\omega_l = \\dot{\\phi}_l$ and $\\omega_r = \\dot{\\phi}_r$ (this is a *kinematic* model of the robot).\n",
        "We also assume that the chariot wheels roll without slipping. \n",
        "\n",
        "🧩 Establish the differential equations that relate $\\dot{x}$,\n",
        "$\\dot{y}$ and $\\dot{\\theta}$ with $\\omega_l$ and $\\omega_r$."
      ]
    },
    {
      "cell_type": "markdown",
      "metadata": {
        "id": "RkPCKrLIVNP-"
      },
      "source": [
        "**Answer:**"
      ]
    },
    {
      "cell_type": "markdown",
      "source": [
        "$\\dot{x}$ ̇=  (R* ($\\omega_r$ + $\\omega_l$))/2*cos⁡(θ)\n",
        "\n",
        "$\\dot{y}$ ̇=  (R* ($\\omega_r$ + $\\omega_l$))/2*sin⁡(θ)\n",
        "\n",
        "$\\dot{\\theta}$ ̇=  (R* ($\\omega_r$ - $\\omega_l$))/D"
      ],
      "metadata": {
        "id": "XuNOfXsCor6B"
      }
    },
    {
      "cell_type": "markdown",
      "metadata": {
        "id": "rmeip3LgVNP_"
      },
      "source": [
        "### Analysis\n",
        "\n",
        "🧩 Show that if $\\omega_l$ and $\\omega_r$ are continuously differentiable functions of $(x, y, \\theta)$ (which includes the case of constant inputs), this system is well-posed."
      ]
    },
    {
      "cell_type": "markdown",
      "metadata": {
        "id": "68tWaYgPVNQA"
      },
      "source": [
        "**Answer:**"
      ]
    },
    {
      "cell_type": "markdown",
      "source": [
        "Existence:\n",
        "\n",
        "$\\omega_l$ and $\\omega_r$ are two continuous functions of x and cosinus is a continuous function of $\\theta$. Thus, by addition and multiplication of continuous functions, $\\dot{x}$ is a continous function of x and $\\theta$. (Same for $\\dot{y}$ and $\\dot{\\theta}$).\n",
        "\n",
        "Uniqueness and continuity:\n",
        "\n",
        "$\\dot{x}$, $\\dot{y}$ and $\\dot{\\theta}$ are differential functions: \n",
        "\n",
        "$\\frac{\\partial \\dot{x}}{\\partial x}$ and $\\frac{\\partial \\dot{x}}{\\partial \\theta}$ are continuous functions.\n",
        "\n",
        "$\\frac{\\partial \\dot{y}}{\\partial x}$ and $\\frac{\\partial \\dot{y}}{\\partial \\theta}$ are continuous functions.\n",
        "\n",
        "$\\frac{\\partial \\dot{\\theta}}{\\partial x}$ and $\\frac{\\partial \\dot{\\theta}}{\\partial \\theta}$ are continous functions.\n",
        "\n",
        "Thus, the system is well posed.\n",
        "\n",
        "\n"
      ],
      "metadata": {
        "id": "1qz2EekDqssQ"
      }
    },
    {
      "cell_type": "markdown",
      "metadata": {
        "id": "SJEh5Kh3VNQK"
      },
      "source": [
        "🧩 Show that if $\\omega_l$ and $\\omega_r$ are constants, the maximal solution associated to any initial state is global. Is is still true of $\\omega_l$ and $\\omega_r$ are arbitrary continuously differentiable functions of $(x, y, \\theta)$ ?"
      ]
    },
    {
      "cell_type": "markdown",
      "metadata": {
        "id": "nCrn3uW2VNQL"
      },
      "source": [
        "**Answer:**"
      ]
    },
    {
      "cell_type": "markdown",
      "metadata": {
        "id": "msweBnrQVNQL"
      },
      "source": [
        "### Vector Field\n",
        "\n",
        "In the sequel, `omega` is a function that computes the input vector $\\omega := (\\omega_l, \\omega_r)$ given the time $t$ and $(x, y, \\theta)$ (thus, it may depend on the time and/or on the system state if needed). For example:"
      ]
    },
    {
      "cell_type": "code",
      "execution_count": null,
      "metadata": {
        "id": "KH8tsQRMVNQM"
      },
      "outputs": [],
      "source": [
        "def omega(t, xytheta):\n",
        "    omega_l = 7.5 * pi\n",
        "    omega_r = 12.5 * pi\n",
        "    return array([omega_l, omega_r])"
      ]
    },
    {
      "cell_type": "markdown",
      "metadata": {
        "id": "koW9yPzmVNQP"
      },
      "source": [
        "🧩 Implement a function `fun(t, xytheta)` that computes $(\\dot{x}, \\dot{y}, \\dot{\\theta})$ given the time $t$, $(x,y,\\theta)$ (and  -- implicitly -- the inputs $\\omega$ computed by the function `omega`)."
      ]
    },
    {
      "cell_type": "code",
      "execution_count": null,
      "metadata": {
        "id": "97xTNscHVNQP"
      },
      "outputs": [],
      "source": [
        "def fun(t, xytheta):\n",
        "    x,y,theta=xytheta\n",
        "    dx=0.5*R*cos(theta)*(omega(t,xytheta)[0]+omega(t,xytheta)[1])\n",
        "    dy=0.5*R*sin(theta)*(omega(t,xytheta)[0]+omega(t,xytheta)[1])\n",
        "    dtheta=R*(1/D)*(-omega(t,xytheta)[0]+omega(t,xytheta)[1])\n",
        "    return array([dx, dy, dtheta])"
      ]
    },
    {
      "cell_type": "markdown",
      "metadata": {
        "id": "vuiPkIGpVNQR"
      },
      "source": [
        "### Simulation Setup\n",
        "\n",
        "🧩 Simulate the robot dynamics for 4 seconds when $(x_0, y_0, \\theta_0)(t=0) = (0.0, 0.0, 0.0)$,\n",
        "and the wheels velocities are the constants $\\omega_l = 7.5 \\pi$ and $\\omega_r = 12.5 \\pi$.\n",
        "(Compute the dense outputs.)\n",
        "   "
      ]
    },
    {
      "cell_type": "code",
      "execution_count": null,
      "metadata": {
        "id": "SSbKiC62VNQR"
      },
      "outputs": [],
      "source": [
        "t_span=[0,4]\n",
        "Initial=[0,0,0]\n",
        "result = solve_ivp(fun=fun, t_span=t_span,\n",
        "y0=Initial)"
      ]
    },
    {
      "cell_type": "code",
      "source": [
        "draw_arena()\n",
        "p=pi\n",
        "x=result['y'][0]\n",
        "y=result['y'][1]\n",
        "theta=result['y'][2]\n",
        "len=shape(x)[0]\n",
        "for i in range(len):\n",
        "  draw_robot(x[i],y[i],theta[i])\n",
        "\n",
        "\n"
      ],
      "metadata": {
        "colab": {
          "base_uri": "https://localhost:8080/",
          "height": 703
        },
        "id": "T3eb0VOC7Xe3",
        "outputId": "9bae4f2b-2493-44a0-848a-5cd21804d536"
      },
      "execution_count": null,
      "outputs": [
        {
          "output_type": "display_data",
          "data": {
            "text/plain": [
              "<Figure size 1152x864 with 1 Axes>"
            ],
            "image/png": "[encoded data removed]"
          },
          "metadata": {
            "needs_background": "light"
          }
        }
      ]
    },
    {
      "cell_type": "markdown",
      "metadata": {
        "id": "zRzDGWruVNQR"
      },
      "source": [
        "🧩 Use the simulation results to draw the graphs of $x(t)$, $y(t)$ and $\\theta(t)$."
      ]
    },
    {
      "cell_type": "code",
      "execution_count": null,
      "metadata": {
        "id": "C8hup50OVNQR",
        "colab": {
          "base_uri": "https://localhost:8080/",
          "height": 282
        },
        "outputId": "ee6b7921-5f07-472b-91d7-19e896b9c729"
      },
      "outputs": [
        {
          "output_type": "execute_result",
          "data": {
            "text/plain": [
              "<matplotlib.legend.Legend at 0x7f65f4ba7810>"
            ]
          },
          "metadata": {},
          "execution_count": 10
        },
        {
          "output_type": "display_data",
          "data": {
            "text/plain": [
              "<Figure size 432x288 with 1 Axes>"
            ],
            "image/png": "[encoded data removed]"
          },
          "metadata": {
            "needs_background": "light"
          }
        }
      ],
      "source": [
        "figure()\n",
        "grid(True)\n",
        "t=linspace(0,10,100)\n",
        "plot(result['t'],x ,label=\"$x$\")\n",
        "plot(result['t'],y ,label=\"$y$\")\n",
        "plot(result['t'],theta ,label=\"$theta$\")\n",
        "grid(); legend()"
      ]
    },
    {
      "cell_type": "markdown",
      "metadata": {
        "id": "s6nUw3qeVNQS"
      },
      "source": [
        "🧩 Use the simulation results to display the robot location every 0.5 second."
      ]
    },
    {
      "cell_type": "code",
      "execution_count": null,
      "metadata": {
        "id": "IgCUT5KCVNQT"
      },
      "outputs": [],
      "source": [
        "pass"
      ]
    },
    {
      "cell_type": "markdown",
      "metadata": {
        "id": "vtgih73SVNQU"
      },
      "source": [
        "🧩 What should be the analytical expression of $x(t)$, $y(t)$ and $\\theta(t)$? "
      ]
    },
    {
      "cell_type": "markdown",
      "metadata": {
        "id": "0M8GNXKtVNQU"
      },
      "source": [
        "**Answer:**"
      ]
    },
    {
      "cell_type": "markdown",
      "metadata": {
        "id": "Tn1PBOfLVNQV"
      },
      "source": [
        "🧩 Do your experimental results match the theoretical results ? Draw the curves of the simulation error at time $t$ for $x$, $y$ and $\\theta$."
      ]
    },
    {
      "cell_type": "code",
      "execution_count": null,
      "metadata": {
        "id": "WEJDTH6WVNQW"
      },
      "outputs": [],
      "source": [
        "pass"
      ]
    },
    {
      "cell_type": "markdown",
      "metadata": {
        "id": "qQI-CLgRVNQW"
      },
      "source": [
        "🧩 If needed, adjust the simulation parameters until this error is uniformly less than $1e-5$ for each variable."
      ]
    },
    {
      "cell_type": "code",
      "execution_count": null,
      "metadata": {
        "id": "b4lM8WWuVNQW"
      },
      "outputs": [],
      "source": [
        "pass"
      ]
    }
  ],
  "metadata": {
    "kernelspec": {
      "display_name": "Python 3 (ipykernel)",
      "language": "python",
      "name": "python3"
    },
    "language_info": {
      "codemirror_mode": {
        "name": "ipython",
        "version": 3
      },
      "file_extension": ".py",
      "mimetype": "text/x-python",
      "name": "python",
      "nbconvert_exporter": "python",
      "pygments_lexer": "ipython3",
      "version": "3.9.10"
    },
    "colab": {
      "name": "Project - Step 1.ipynb",
      "provenance": [],
      "collapsed_sections": []
    }
  },
  "nbformat": 4,
  "nbformat_minor": 0
}